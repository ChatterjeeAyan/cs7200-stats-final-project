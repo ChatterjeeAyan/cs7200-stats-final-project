{
 "cells": [
  {
   "cell_type": "code",
   "execution_count": null,
   "metadata": {},
   "outputs": [],
   "source": [
    "import openpyxl\n",
    "\n",
    "wb = openpyxl.load_workbook('Suppementary_Combined.xlsx')"
   ]
  },
  {
   "cell_type": "markdown",
   "metadata": {},
   "source": [
    "# New change based model"
   ]
  },
  {
   "cell_type": "code",
   "execution_count": null,
   "metadata": {},
   "outputs": [],
   "source": [
    "combined_sheet = wb.get_sheet_names()[3]\n",
    "combined_worksheet = wb.get_sheet_by_name(combined_sheet)"
   ]
  },
  {
   "cell_type": "code",
   "execution_count": null,
   "metadata": {},
   "outputs": [],
   "source": [
    "X_1 = []\n",
    "X_2 = []\n",
    "X_3 = []\n",
    "\n",
    "for row in range(2, combined_worksheet.max_row+1): \n",
    "    column = \"F\"\n",
    "    cell_name = \"{}{}\".format(column, row)\n",
    "    from_1 = combined_worksheet[cell_name].value\n",
    "    column = \"G\"\n",
    "    cell_name = \"{}{}\".format(column, row)\n",
    "    to_1 = combined_worksheet[cell_name].value\n",
    "    column = \"O\"\n",
    "    cell_name = \"{}{}\".format(column, row)\n",
    "    if from_1 != to_1:\n",
    "        combined_worksheet[cell_name].value = 1\n",
    "        X_1.append(1)\n",
    "    if from_1 == to_1:\n",
    "        combined_worksheet[cell_name].value = 0\n",
    "        X_1.append(0)\n",
    "        \n",
    "    column = \"I\"\n",
    "    cell_name = \"{}{}\".format(column, row)\n",
    "    from_1 = combined_worksheet[cell_name].value\n",
    "    column = \"J\"\n",
    "    cell_name = \"{}{}\".format(column, row)\n",
    "    to_1 = combined_worksheet[cell_name].value\n",
    "    column = \"P\"\n",
    "    cell_name = \"{}{}\".format(column, row)\n",
    "    if from_1 != to_1:\n",
    "        combined_worksheet[cell_name].value = 1\n",
    "        X_2.append(1)\n",
    "    if from_1 == to_1:\n",
    "        combined_worksheet[cell_name].value = 0\n",
    "        X_2.append(0)\n",
    "        \n",
    "    column = \"L\"\n",
    "    cell_name = \"{}{}\".format(column, row)\n",
    "    from_1 = combined_worksheet[cell_name].value\n",
    "    column = \"M\"\n",
    "    cell_name = \"{}{}\".format(column, row)\n",
    "    to_1 = combined_worksheet[cell_name].value\n",
    "    column = \"Q\"\n",
    "    cell_name = \"{}{}\".format(column, row)\n",
    "    if from_1 != to_1:\n",
    "        combined_worksheet[cell_name].value = 1\n",
    "        X_3.append(1)\n",
    "    if from_1 == to_1:\n",
    "        combined_worksheet[cell_name].value = 0     \n",
    "        X_3.append(0)"
   ]
  },
  {
   "cell_type": "code",
   "execution_count": null,
   "metadata": {},
   "outputs": [],
   "source": [
    "wb.save('Suppementary_Combined.xlsx')"
   ]
  },
  {
   "cell_type": "code",
   "execution_count": null,
   "metadata": {},
   "outputs": [],
   "source": [
    "def mean(someList):\n",
    "    total = 0\n",
    "    for a in someList:\n",
    "        total += float(a)\n",
    "    mean = total/len(someList)\n",
    "    return mean\n",
    "def standDev(someList):\n",
    "    listMean = mean(someList)\n",
    "    dev = 0.0\n",
    "    for i in range(len(someList)):\n",
    "        dev += (someList[i]-listMean)**2\n",
    "    dev = dev**(1/2.0)\n",
    "    return dev\n",
    "def correlCo(someList1, someList2):\n",
    "\n",
    "    # First establish the means and standard deviations for both lists.\n",
    "    xMean = mean(someList1)\n",
    "    yMean = mean(someList2)\n",
    "    xStandDev = standDev(someList1)\n",
    "    yStandDev = standDev(someList2)\n",
    "    # r numerator\n",
    "    rNum = 0.0\n",
    "    for i in range(len(someList1)):\n",
    "        rNum += (someList1[i]-xMean)*(someList2[i]-yMean)\n",
    "\n",
    "    # r denominator\n",
    "    rDen = xStandDev * yStandDev\n",
    "\n",
    "    r =  rNum/rDen\n",
    "    return r\n",
    "\n",
    "print(correlCo([1,2,3,4,4,8], [3,3,4,5,8,9]))"
   ]
  },
  {
   "cell_type": "code",
   "execution_count": null,
   "metadata": {},
   "outputs": [],
   "source": [
    "print(correlCo(X_1,X_2), correlCo(X_2,X_3), correlCo(X_3,X_1))"
   ]
  },
  {
   "cell_type": "markdown",
   "metadata": {},
   "source": [
    "# Updating the Disease Sheet"
   ]
  },
  {
   "cell_type": "code",
   "execution_count": null,
   "metadata": {},
   "outputs": [],
   "source": [
    "disease_sheet = wb.get_sheet_names()[0]\n",
    "disease_worksheet = wb.get_sheet_by_name(disease_sheet)"
   ]
  },
  {
   "cell_type": "code",
   "execution_count": null,
   "metadata": {},
   "outputs": [],
   "source": [
    "FromAA_list = []\n",
    "\n",
    "for row in range(2, disease_worksheet.max_row+1): \n",
    "    column = \"C\"\n",
    "    cell_name = \"{}{}\".format(column, row)\n",
    "    AA_name = disease_worksheet[cell_name].value\n",
    "    FromAA_list.append(AA_name)\n",
    "        \n",
    "ToAA_list = []\n",
    "\n",
    "for row in range(2, disease_worksheet.max_row+1): \n",
    "    column = \"D\"\n",
    "    cell_name = \"{}{}\".format(column, row)\n",
    "    AA_name = disease_worksheet[cell_name].value\n",
    "    ToAA_list.append(AA_name)"
   ]
  },
  {
   "cell_type": "markdown",
   "metadata": {},
   "source": [
    "# Hydrophibicity Updates"
   ]
  },
  {
   "cell_type": "code",
   "execution_count": null,
   "metadata": {},
   "outputs": [],
   "source": [
    "hydrophobic_list = ['A', 'C', 'I', 'L', 'M', 'F', 'W', 'V']\n",
    "hydrophilic_list = ['R', 'N', 'D', 'Q', 'E', 'K']\n",
    "neutral_list = ['G', 'H', 'P', 'S', 'T', 'Y']"
   ]
  },
  {
   "cell_type": "code",
   "execution_count": null,
   "metadata": {},
   "outputs": [],
   "source": [
    "row = 2\n",
    "\n",
    "for AA in FromAA_list: \n",
    "    column = \"L\"\n",
    "    cell_name = \"{}{}\".format(column, row)\n",
    "    disease_worksheet[cell_name].value\n",
    "    if AA in hydrophobic_list:\n",
    "        disease_worksheet[cell_name].value = 'Hydrophobic'\n",
    "    if AA in hydrophilic_list:\n",
    "        disease_worksheet[cell_name].value = 'Hydrophilic'\n",
    "    if AA in neutral_list:\n",
    "        disease_worksheet[cell_name].value = 'Neutral'\n",
    "    row = row + 1        "
   ]
  },
  {
   "cell_type": "code",
   "execution_count": null,
   "metadata": {},
   "outputs": [],
   "source": [
    "row = 2\n",
    "\n",
    "for AA in ToAA_list: \n",
    "    column = \"M\"\n",
    "    cell_name = \"{}{}\".format(column, row)\n",
    "    disease_worksheet[cell_name].value\n",
    "    if AA in hydrophobic_list:\n",
    "        disease_worksheet[cell_name].value = 'Hydrophobic'\n",
    "    if AA in hydrophilic_list:\n",
    "        disease_worksheet[cell_name].value = 'Hydrophilic'\n",
    "    if AA in neutral_list:\n",
    "        disease_worksheet[cell_name].value = 'Neutral'\n",
    "    row = row + 1 "
   ]
  },
  {
   "cell_type": "code",
   "execution_count": null,
   "metadata": {},
   "outputs": [],
   "source": [
    "wb.save('Suppementary_Combined.xlsx')"
   ]
  },
  {
   "cell_type": "markdown",
   "metadata": {},
   "source": [
    "# Size Updates"
   ]
  },
  {
   "cell_type": "code",
   "execution_count": null,
   "metadata": {},
   "outputs": [],
   "source": [
    "very_small_list = ['A', 'G', 'S']\n",
    "small_list = ['N', 'D', 'C', 'P', 'T']\n",
    "medium_list = ['Q', 'E', 'H', 'V']\n",
    "large_list = ['R', 'I', 'L', 'K', 'M']\n",
    "very_large_list = ['F', 'W', 'Y']"
   ]
  },
  {
   "cell_type": "code",
   "execution_count": null,
   "metadata": {},
   "outputs": [],
   "source": [
    "row = 2\n",
    "\n",
    "for AA in FromAA_list: \n",
    "    column = \"O\"\n",
    "    cell_name = \"{}{}\".format(column, row)\n",
    "    disease_worksheet[cell_name].value\n",
    "    if AA in very_small_list:\n",
    "        disease_worksheet[cell_name].value = 'Very_Small'\n",
    "    if AA in small_list:\n",
    "        disease_worksheet[cell_name].value = 'Small'\n",
    "    if AA in medium_list:\n",
    "        disease_worksheet[cell_name].value = 'Medium'\n",
    "    if AA in large_list:\n",
    "        disease_worksheet[cell_name].value = 'Large'\n",
    "    if AA in very_large_list:\n",
    "        disease_worksheet[cell_name].value = 'Very_Large'\n",
    "    row = row + 1      "
   ]
  },
  {
   "cell_type": "code",
   "execution_count": null,
   "metadata": {},
   "outputs": [],
   "source": [
    "row = 2\n",
    "\n",
    "for AA in ToAA_list: \n",
    "    column = \"P\"\n",
    "    cell_name = \"{}{}\".format(column, row)\n",
    "    disease_worksheet[cell_name].value\n",
    "    if AA in very_small_list:\n",
    "        disease_worksheet[cell_name].value = 'Very_Small'\n",
    "    if AA in small_list:\n",
    "        disease_worksheet[cell_name].value = 'Small'\n",
    "    if AA in medium_list:\n",
    "        disease_worksheet[cell_name].value = 'Medium'\n",
    "    if AA in large_list:\n",
    "        disease_worksheet[cell_name].value = 'Large'\n",
    "    if AA in very_large_list:\n",
    "        disease_worksheet[cell_name].value = 'Very_Large'\n",
    "    row = row + 1      "
   ]
  },
  {
   "cell_type": "code",
   "execution_count": null,
   "metadata": {},
   "outputs": [],
   "source": [
    "wb.save('Suppementary_Combined.xlsx')"
   ]
  },
  {
   "cell_type": "markdown",
   "metadata": {},
   "source": [
    "# Hydrogen Donor OR Acceptor"
   ]
  },
  {
   "cell_type": "code",
   "execution_count": null,
   "metadata": {},
   "outputs": [],
   "source": [
    "donor_list = ['R', 'K', 'W']\n",
    "acceptor_list = ['D', 'E']\n",
    "donor_and_acceptor_list = ['N', 'Q', 'H', 'S', 'T', 'Y']\n",
    "none_list = ['A', 'C', 'G', 'I', 'L', 'M', 'F', 'P', 'V']"
   ]
  },
  {
   "cell_type": "code",
   "execution_count": null,
   "metadata": {},
   "outputs": [],
   "source": [
    "row = 2\n",
    "\n",
    "for AA in FromAA_list: \n",
    "    column = \"R\"\n",
    "    cell_name = \"{}{}\".format(column, row)\n",
    "    disease_worksheet[cell_name].value\n",
    "    if AA in donor_list:\n",
    "        disease_worksheet[cell_name].value = 'Donor'\n",
    "    if AA in acceptor_list:\n",
    "        disease_worksheet[cell_name].value = 'Acceptor'\n",
    "    if AA in donor_and_acceptor_list:\n",
    "        disease_worksheet[cell_name].value = 'Donor_and_Acceptor'\n",
    "    if AA in none_list:\n",
    "        disease_worksheet[cell_name].value = 'No_Role'\n",
    "    row = row + 1      "
   ]
  },
  {
   "cell_type": "code",
   "execution_count": null,
   "metadata": {},
   "outputs": [],
   "source": [
    "row = 2\n",
    "\n",
    "for AA in ToAA_list: \n",
    "    column = \"S\"\n",
    "    cell_name = \"{}{}\".format(column, row)\n",
    "    disease_worksheet[cell_name].value\n",
    "    if AA in donor_list:\n",
    "        disease_worksheet[cell_name].value = 'Donor'\n",
    "    if AA in acceptor_list:\n",
    "        disease_worksheet[cell_name].value = 'Acceptor'\n",
    "    if AA in donor_and_acceptor_list:\n",
    "        disease_worksheet[cell_name].value = 'Donor_and_Acceptor'\n",
    "    if AA in none_list:\n",
    "        disease_worksheet[cell_name].value = 'No_Role'\n",
    "    row = row + 1      "
   ]
  },
  {
   "cell_type": "code",
   "execution_count": null,
   "metadata": {},
   "outputs": [],
   "source": [
    "wb.save('Suppementary_Combined.xlsx')"
   ]
  },
  {
   "cell_type": "markdown",
   "metadata": {},
   "source": [
    "# Updating the Benign Sheet"
   ]
  },
  {
   "cell_type": "code",
   "execution_count": null,
   "metadata": {},
   "outputs": [],
   "source": [
    "benign_sheet = wb.get_sheet_names()[1]\n",
    "benign_worksheet = wb.get_sheet_by_name(benign_sheet)"
   ]
  },
  {
   "cell_type": "code",
   "execution_count": null,
   "metadata": {},
   "outputs": [],
   "source": [
    "FromAA_list = []\n",
    "\n",
    "for row in range(2, benign_worksheet.max_row+1): \n",
    "    column = \"C\"\n",
    "    cell_name = \"{}{}\".format(column, row)\n",
    "    AA_name = benign_worksheet[cell_name].value\n",
    "    FromAA_list.append(AA_name)\n",
    "        \n",
    "ToAA_list = []\n",
    "\n",
    "for row in range(2, benign_worksheet.max_row+1): \n",
    "    column = \"D\"\n",
    "    cell_name = \"{}{}\".format(column, row)\n",
    "    AA_name = benign_worksheet[cell_name].value\n",
    "    ToAA_list.append(AA_name)"
   ]
  },
  {
   "cell_type": "markdown",
   "metadata": {},
   "source": [
    "# Hydrophibicity Updates"
   ]
  },
  {
   "cell_type": "code",
   "execution_count": null,
   "metadata": {},
   "outputs": [],
   "source": [
    "row = 2\n",
    "\n",
    "for AA in FromAA_list: \n",
    "    column = \"L\"\n",
    "    cell_name = \"{}{}\".format(column, row)\n",
    "    benign_worksheet[cell_name].value\n",
    "    if AA in hydrophobic_list:\n",
    "        benign_worksheet[cell_name].value = 'Hydrophobic'\n",
    "    if AA in hydrophilic_list:\n",
    "        benign_worksheet[cell_name].value = 'Hydrophilic'\n",
    "    if AA in neutral_list:\n",
    "        benign_worksheet[cell_name].value = 'Neutral'\n",
    "    row = row + 1        "
   ]
  },
  {
   "cell_type": "code",
   "execution_count": null,
   "metadata": {},
   "outputs": [],
   "source": [
    "row = 2\n",
    "\n",
    "for AA in ToAA_list: \n",
    "    column = \"M\"\n",
    "    cell_name = \"{}{}\".format(column, row)\n",
    "    benign_worksheet[cell_name].value\n",
    "    if AA in hydrophobic_list:\n",
    "        benign_worksheet[cell_name].value = 'Hydrophobic'\n",
    "    if AA in hydrophilic_list:\n",
    "        benign_worksheet[cell_name].value = 'Hydrophilic'\n",
    "    if AA in neutral_list:\n",
    "        benign_worksheet[cell_name].value = 'Neutral'\n",
    "    row = row + 1 "
   ]
  },
  {
   "cell_type": "code",
   "execution_count": null,
   "metadata": {},
   "outputs": [],
   "source": [
    "wb.save('Suppementary_Combined.xlsx')"
   ]
  },
  {
   "cell_type": "markdown",
   "metadata": {},
   "source": [
    "# Size Updates"
   ]
  },
  {
   "cell_type": "code",
   "execution_count": null,
   "metadata": {},
   "outputs": [],
   "source": [
    "row = 2\n",
    "\n",
    "for AA in FromAA_list: \n",
    "    column = \"O\"\n",
    "    cell_name = \"{}{}\".format(column, row)\n",
    "    benign_worksheet[cell_name].value\n",
    "    if AA in very_small_list:\n",
    "        benign_worksheet[cell_name].value = 'Very_Small'\n",
    "    if AA in small_list:\n",
    "        benign_worksheet[cell_name].value = 'Small'\n",
    "    if AA in medium_list:\n",
    "        benign_worksheet[cell_name].value = 'Medium'\n",
    "    if AA in large_list:\n",
    "        benign_worksheet[cell_name].value = 'Large'\n",
    "    if AA in very_large_list:\n",
    "        benign_worksheet[cell_name].value = 'Very_Large'\n",
    "    row = row + 1      "
   ]
  },
  {
   "cell_type": "code",
   "execution_count": null,
   "metadata": {},
   "outputs": [],
   "source": [
    "row = 2\n",
    "\n",
    "for AA in ToAA_list: \n",
    "    column = \"P\"\n",
    "    cell_name = \"{}{}\".format(column, row)\n",
    "    benign_worksheet[cell_name].value\n",
    "    if AA in very_small_list:\n",
    "        benign_worksheet[cell_name].value = 'Very_Small'\n",
    "    if AA in small_list:\n",
    "        benign_worksheet[cell_name].value = 'Small'\n",
    "    if AA in medium_list:\n",
    "        benign_worksheet[cell_name].value = 'Medium'\n",
    "    if AA in large_list:\n",
    "        benign_worksheet[cell_name].value = 'Large'\n",
    "    if AA in very_large_list:\n",
    "        benign_worksheet[cell_name].value = 'Very_Large'\n",
    "    row = row + 1  "
   ]
  },
  {
   "cell_type": "markdown",
   "metadata": {},
   "source": [
    "# Hydrogen Donor OR Acceptor"
   ]
  },
  {
   "cell_type": "code",
   "execution_count": null,
   "metadata": {},
   "outputs": [],
   "source": [
    "row = 2\n",
    "\n",
    "for AA in FromAA_list: \n",
    "    column = \"R\"\n",
    "    cell_name = \"{}{}\".format(column, row)\n",
    "    benign_worksheet[cell_name].value\n",
    "    if AA in donor_list:\n",
    "        benign_worksheet[cell_name].value = 'Donor'\n",
    "    if AA in acceptor_list:\n",
    "        benign_worksheet[cell_name].value = 'Acceptor'\n",
    "    if AA in donor_and_acceptor_list:\n",
    "        benign_worksheet[cell_name].value = 'Donor_and_Acceptor'\n",
    "    if AA in none_list:\n",
    "        benign_worksheet[cell_name].value = 'No_Role'\n",
    "    row = row + 1      "
   ]
  },
  {
   "cell_type": "code",
   "execution_count": null,
   "metadata": {},
   "outputs": [],
   "source": [
    "row = 2\n",
    "\n",
    "for AA in ToAA_list: \n",
    "    column = \"S\"\n",
    "    cell_name = \"{}{}\".format(column, row)\n",
    "    benign_worksheet[cell_name].value\n",
    "    if AA in donor_list:\n",
    "        benign_worksheet[cell_name].value = 'Donor'\n",
    "    if AA in acceptor_list:\n",
    "        benign_worksheet[cell_name].value = 'Acceptor'\n",
    "    if AA in donor_and_acceptor_list:\n",
    "        benign_worksheet[cell_name].value = 'Donor_and_Acceptor'\n",
    "    if AA in none_list:\n",
    "        benign_worksheet[cell_name].value = 'No_Role'\n",
    "    row = row + 1      "
   ]
  },
  {
   "cell_type": "code",
   "execution_count": null,
   "metadata": {},
   "outputs": [],
   "source": [
    "wb.save('Suppementary_Combined.xlsx')"
   ]
  }
 ],
 "metadata": {
  "language_info": {
   "name": "python",
   "pygments_lexer": "ipython3"
  }
 },
 "nbformat": 4,
 "nbformat_minor": 2
}
