{
 "cells": [
  {
   "cell_type": "code",
   "execution_count": null,
   "metadata": {},
   "outputs": [],
   "source": [
    "import pandas as pd \n",
    "import numpy as np \n",
    "import matplotlib.pyplot as plt "
   ]
  },
  {
   "cell_type": "code",
   "execution_count": null,
   "metadata": {},
   "outputs": [],
   "source": [
    "dataset = pd.read_excel('Suppementary_Combined.xlsx', sheet_name='Combined_Dataset') "
   ]
  },
  {
   "cell_type": "code",
   "execution_count": null,
   "metadata": {},
   "outputs": [],
   "source": [
    "dataset"
   ]
  },
  {
   "cell_type": "code",
   "execution_count": null,
   "metadata": {},
   "outputs": [],
   "source": [
    "from sklearn.datasets import load_iris\n",
    "from sklearn.linear_model import LogisticRegression"
   ]
  },
  {
   "cell_type": "code",
   "execution_count": null,
   "metadata": {},
   "outputs": [],
   "source": [
    "b1_list = []\n",
    "b2_list = []\n",
    "b3_list = []\n",
    "\n",
    "for i in range(100):\n",
    "    N = 150\n",
    "    sampled = dataset.groupby('Class').apply(lambda x:x.sample(N)).reset_index(drop=True)\n",
    "    # sampled = dataset.sample(n = 300) ## Change this later to 150 + 150 for balanced dataset ##\n",
    "    x = sampled.iloc[:, [14, 15, 16]].values\n",
    "    y = sampled.iloc[:, 3].values \n",
    "    clf = LogisticRegression(random_state=0).fit(x, y)\n",
    "    b1_list.append(clf.coef_[0,0])\n",
    "    b2_list.append(clf.coef_[0,1])\n",
    "    b3_list.append(clf.coef_[0,2])"
   ]
  },
  {
   "cell_type": "code",
   "execution_count": null,
   "metadata": {},
   "outputs": [],
   "source": [
    "plt.hist(b1_list)\n",
    "plt.xlabel('b1 values')\n",
    "plt.ylabel('Frequency')"
   ]
  },
  {
   "cell_type": "code",
   "execution_count": null,
   "metadata": {},
   "outputs": [],
   "source": [
    "plt.hist(b2_list)\n",
    "plt.xlabel('b2 values')\n",
    "plt.ylabel('Frequency')"
   ]
  },
  {
   "cell_type": "code",
   "execution_count": null,
   "metadata": {},
   "outputs": [],
   "source": [
    "plt.hist(b3_list)\n",
    "plt.xlabel('b3 values')\n",
    "plt.ylabel('Frequency')"
   ]
  },
  {
   "cell_type": "code",
   "execution_count": null,
   "metadata": {},
   "outputs": [],
   "source": []
  }
 ],
 "metadata": {
  "language_info": {
   "name": "python",
   "pygments_lexer": "ipython3"
  }
 },
 "nbformat": 4,
 "nbformat_minor": 2
}
